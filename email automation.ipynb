{
 "cells": [
  {
   "cell_type": "code",
   "execution_count": 46,
   "metadata": {},
   "outputs": [],
   "source": [
    "import smtplib\n",
    "import imghdr\n",
    "# with smtplib.SMTP('localhost',1025) as smtp:\n",
    "#     subject='Test mail'\n",
    "#     body='Hi,\\n Testing email service using python '\n",
    "#     msg=f'Subject:{subject}\\n\\n{body}'\n",
    "#     smtp.sendmail('mkyrudra@gmail.com','javaphp19@gmail.com',msg)\n",
    "from email.message import EmailMessage\n",
    "msg=EmailMessage()\n",
    "msg['Subject']='Test mail'\n",
    "msg['From']='mkyrudra@gmail.com'\n",
    "msg['To']='mkyrudra@gmail.com'\n",
    "msg.set_content('Hi,\\n Testing email service using python')\n",
    "#image------------------------------------------------------------\n",
    "# with open(r'C:\\Users\\My PC\\Desktop\\WhatsApp.jpeg','rb') as f:\n",
    "#     fdata=f.read()\n",
    "#     ftype=imghdr.what(f.name)\n",
    "#     fname=f.name\n",
    "#     print(ftype)\n",
    "# msg.add_attachment(fdata,maintype='image',subtype=ftype,filename=fname)\n",
    "#-------------------------------------------------------------------------\n",
    "\n",
    "\n",
    "with smtplib.SMTP('localhost',1025) as smtp:\n",
    "    smtp.send_message(msg)\n",
    "    \n"
   ]
  },
  {
   "cell_type": "code",
   "execution_count": null,
   "metadata": {},
   "outputs": [],
   "source": [
    "# import datetime as dt\n",
    "# import time\n",
    "# def send_email_at(send_time):\n",
    "#     time.sleep(send_time.timestamp() - time.time())\n",
    "#     send_email()\n",
    "#     print('email sent')\n",
    "\n",
    "# first_email_time = dt.datetime(2020,10,26,3,0,0) # set your sending time in UTC\n",
    "# interval = dt.timedelta(minutes=2*60) # set the interval for sending the email\n",
    "\n",
    "# send_time = first_email_time\n",
    "# while True:\n",
    "#     send_email_at(send_time)\n",
    "#     send_time = send_time + interval\n",
    "#__________________________________________________________________\n",
    "import datetime \n",
    "import time\n",
    "while True:\n",
    "    unix=int(time.time())\n",
    "    timei=str(datetime.datetime.fromtimestamp(unix).strftime('%I:%M:%S:%p'))\n",
    "    print(timei)\n",
    "    if timei=='03:21:00:PM':\n",
    "        print('Its the time')\n",
    "#_______________________________________________________crontab can also be used\n"
   ]
  },
  {
   "cell_type": "code",
   "execution_count": null,
   "metadata": {},
   "outputs": [],
   "source": []
  }
 ],
 "metadata": {
  "kernelspec": {
   "display_name": "Python 3",
   "language": "python",
   "name": "python3"
  },
  "language_info": {
   "codemirror_mode": {
    "name": "ipython",
    "version": 3
   },
   "file_extension": ".py",
   "mimetype": "text/x-python",
   "name": "python",
   "nbconvert_exporter": "python",
   "pygments_lexer": "ipython3",
   "version": "3.7.3"
  }
 },
 "nbformat": 4,
 "nbformat_minor": 2
}
