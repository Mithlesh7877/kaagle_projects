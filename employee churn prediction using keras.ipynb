{
 "cells": [
  {
   "cell_type": "code",
   "execution_count": 50,
   "metadata": {},
   "outputs": [],
   "source": [
    "import pandas as pd\n",
    "import numpy as np\n"
   ]
  },
  {
   "cell_type": "code",
   "execution_count": 51,
   "metadata": {},
   "outputs": [],
   "source": [
    "df=pd.read_csv(r'C:\\Users\\My PC\\Desktop\\Machine Learning\\Kaggle\\churn\\Churn.csv')"
   ]
  },
  {
   "cell_type": "code",
   "execution_count": 52,
   "metadata": {},
   "outputs": [
    {
     "data": {
      "text/html": [
       "<div>\n",
       "<style scoped>\n",
       "    .dataframe tbody tr th:only-of-type {\n",
       "        vertical-align: middle;\n",
       "    }\n",
       "\n",
       "    .dataframe tbody tr th {\n",
       "        vertical-align: top;\n",
       "    }\n",
       "\n",
       "    .dataframe thead th {\n",
       "        text-align: right;\n",
       "    }\n",
       "</style>\n",
       "<table border=\"1\" class=\"dataframe\">\n",
       "  <thead>\n",
       "    <tr style=\"text-align: right;\">\n",
       "      <th></th>\n",
       "      <th>RowNumber</th>\n",
       "      <th>CustomerId</th>\n",
       "      <th>Surname</th>\n",
       "      <th>CreditScore</th>\n",
       "      <th>Geography</th>\n",
       "      <th>Gender</th>\n",
       "      <th>Age</th>\n",
       "      <th>Tenure</th>\n",
       "      <th>Balance</th>\n",
       "      <th>NumOfProducts</th>\n",
       "      <th>HasCrCard</th>\n",
       "      <th>IsActiveMember</th>\n",
       "      <th>EstimatedSalary</th>\n",
       "      <th>Exited</th>\n",
       "    </tr>\n",
       "  </thead>\n",
       "  <tbody>\n",
       "    <tr>\n",
       "      <th>0</th>\n",
       "      <td>1</td>\n",
       "      <td>15634602</td>\n",
       "      <td>Hargrave</td>\n",
       "      <td>619</td>\n",
       "      <td>France</td>\n",
       "      <td>Female</td>\n",
       "      <td>42</td>\n",
       "      <td>2</td>\n",
       "      <td>0.00</td>\n",
       "      <td>1</td>\n",
       "      <td>1</td>\n",
       "      <td>1</td>\n",
       "      <td>101348.88</td>\n",
       "      <td>1</td>\n",
       "    </tr>\n",
       "    <tr>\n",
       "      <th>1</th>\n",
       "      <td>2</td>\n",
       "      <td>15647311</td>\n",
       "      <td>Hill</td>\n",
       "      <td>608</td>\n",
       "      <td>Spain</td>\n",
       "      <td>Female</td>\n",
       "      <td>41</td>\n",
       "      <td>1</td>\n",
       "      <td>83807.86</td>\n",
       "      <td>1</td>\n",
       "      <td>0</td>\n",
       "      <td>1</td>\n",
       "      <td>112542.58</td>\n",
       "      <td>0</td>\n",
       "    </tr>\n",
       "    <tr>\n",
       "      <th>2</th>\n",
       "      <td>3</td>\n",
       "      <td>15619304</td>\n",
       "      <td>Onio</td>\n",
       "      <td>502</td>\n",
       "      <td>France</td>\n",
       "      <td>Female</td>\n",
       "      <td>42</td>\n",
       "      <td>8</td>\n",
       "      <td>159660.80</td>\n",
       "      <td>3</td>\n",
       "      <td>1</td>\n",
       "      <td>0</td>\n",
       "      <td>113931.57</td>\n",
       "      <td>1</td>\n",
       "    </tr>\n",
       "    <tr>\n",
       "      <th>3</th>\n",
       "      <td>4</td>\n",
       "      <td>15701354</td>\n",
       "      <td>Boni</td>\n",
       "      <td>699</td>\n",
       "      <td>France</td>\n",
       "      <td>Female</td>\n",
       "      <td>39</td>\n",
       "      <td>1</td>\n",
       "      <td>0.00</td>\n",
       "      <td>2</td>\n",
       "      <td>0</td>\n",
       "      <td>0</td>\n",
       "      <td>93826.63</td>\n",
       "      <td>0</td>\n",
       "    </tr>\n",
       "    <tr>\n",
       "      <th>4</th>\n",
       "      <td>5</td>\n",
       "      <td>15737888</td>\n",
       "      <td>Mitchell</td>\n",
       "      <td>850</td>\n",
       "      <td>Spain</td>\n",
       "      <td>Female</td>\n",
       "      <td>43</td>\n",
       "      <td>2</td>\n",
       "      <td>125510.82</td>\n",
       "      <td>1</td>\n",
       "      <td>1</td>\n",
       "      <td>1</td>\n",
       "      <td>79084.10</td>\n",
       "      <td>0</td>\n",
       "    </tr>\n",
       "  </tbody>\n",
       "</table>\n",
       "</div>"
      ],
      "text/plain": [
       "   RowNumber  CustomerId   Surname  CreditScore Geography  Gender  Age  \\\n",
       "0          1    15634602  Hargrave          619    France  Female   42   \n",
       "1          2    15647311      Hill          608     Spain  Female   41   \n",
       "2          3    15619304      Onio          502    France  Female   42   \n",
       "3          4    15701354      Boni          699    France  Female   39   \n",
       "4          5    15737888  Mitchell          850     Spain  Female   43   \n",
       "\n",
       "   Tenure    Balance  NumOfProducts  HasCrCard  IsActiveMember  \\\n",
       "0       2       0.00              1          1               1   \n",
       "1       1   83807.86              1          0               1   \n",
       "2       8  159660.80              3          1               0   \n",
       "3       1       0.00              2          0               0   \n",
       "4       2  125510.82              1          1               1   \n",
       "\n",
       "   EstimatedSalary  Exited  \n",
       "0        101348.88       1  \n",
       "1        112542.58       0  \n",
       "2        113931.57       1  \n",
       "3         93826.63       0  \n",
       "4         79084.10       0  "
      ]
     },
     "execution_count": 52,
     "metadata": {},
     "output_type": "execute_result"
    }
   ],
   "source": [
    "df.head()"
   ]
  },
  {
   "cell_type": "code",
   "execution_count": 53,
   "metadata": {},
   "outputs": [],
   "source": [
    "geo=pd.get_dummies(df['Geography'])\n",
    "gen=pd.get_dummies(df['Gender'])"
   ]
  },
  {
   "cell_type": "code",
   "execution_count": 54,
   "metadata": {},
   "outputs": [],
   "source": [
    "df=pd.concat( (df,gen,geo), axis=1 ) "
   ]
  },
  {
   "cell_type": "code",
   "execution_count": 55,
   "metadata": {},
   "outputs": [],
   "source": [
    "df=df.drop(df[['Geography','Gender']],axis=1)"
   ]
  },
  {
   "cell_type": "code",
   "execution_count": 57,
   "metadata": {},
   "outputs": [],
   "source": [
    "X=df.drop(['Exited'],axis=1)\n",
    "Y=df['Exited']"
   ]
  },
  {
   "cell_type": "code",
   "execution_count": 66,
   "metadata": {},
   "outputs": [
    {
     "data": {
      "text/html": [
       "<div>\n",
       "<style scoped>\n",
       "    .dataframe tbody tr th:only-of-type {\n",
       "        vertical-align: middle;\n",
       "    }\n",
       "\n",
       "    .dataframe tbody tr th {\n",
       "        vertical-align: top;\n",
       "    }\n",
       "\n",
       "    .dataframe thead th {\n",
       "        text-align: right;\n",
       "    }\n",
       "</style>\n",
       "<table border=\"1\" class=\"dataframe\">\n",
       "  <thead>\n",
       "    <tr style=\"text-align: right;\">\n",
       "      <th></th>\n",
       "      <th>CreditScore</th>\n",
       "      <th>Age</th>\n",
       "      <th>Tenure</th>\n",
       "      <th>Balance</th>\n",
       "      <th>NumOfProducts</th>\n",
       "      <th>HasCrCard</th>\n",
       "      <th>IsActiveMember</th>\n",
       "      <th>EstimatedSalary</th>\n",
       "      <th>Female</th>\n",
       "      <th>Male</th>\n",
       "      <th>France</th>\n",
       "      <th>Germany</th>\n",
       "      <th>Spain</th>\n",
       "    </tr>\n",
       "  </thead>\n",
       "  <tbody>\n",
       "    <tr>\n",
       "      <th>0</th>\n",
       "      <td>619</td>\n",
       "      <td>42</td>\n",
       "      <td>2</td>\n",
       "      <td>0.00</td>\n",
       "      <td>1</td>\n",
       "      <td>1</td>\n",
       "      <td>1</td>\n",
       "      <td>101348.88</td>\n",
       "      <td>1</td>\n",
       "      <td>0</td>\n",
       "      <td>1</td>\n",
       "      <td>0</td>\n",
       "      <td>0</td>\n",
       "    </tr>\n",
       "    <tr>\n",
       "      <th>1</th>\n",
       "      <td>608</td>\n",
       "      <td>41</td>\n",
       "      <td>1</td>\n",
       "      <td>83807.86</td>\n",
       "      <td>1</td>\n",
       "      <td>0</td>\n",
       "      <td>1</td>\n",
       "      <td>112542.58</td>\n",
       "      <td>1</td>\n",
       "      <td>0</td>\n",
       "      <td>0</td>\n",
       "      <td>0</td>\n",
       "      <td>1</td>\n",
       "    </tr>\n",
       "    <tr>\n",
       "      <th>2</th>\n",
       "      <td>502</td>\n",
       "      <td>42</td>\n",
       "      <td>8</td>\n",
       "      <td>159660.80</td>\n",
       "      <td>3</td>\n",
       "      <td>1</td>\n",
       "      <td>0</td>\n",
       "      <td>113931.57</td>\n",
       "      <td>1</td>\n",
       "      <td>0</td>\n",
       "      <td>1</td>\n",
       "      <td>0</td>\n",
       "      <td>0</td>\n",
       "    </tr>\n",
       "    <tr>\n",
       "      <th>3</th>\n",
       "      <td>699</td>\n",
       "      <td>39</td>\n",
       "      <td>1</td>\n",
       "      <td>0.00</td>\n",
       "      <td>2</td>\n",
       "      <td>0</td>\n",
       "      <td>0</td>\n",
       "      <td>93826.63</td>\n",
       "      <td>1</td>\n",
       "      <td>0</td>\n",
       "      <td>1</td>\n",
       "      <td>0</td>\n",
       "      <td>0</td>\n",
       "    </tr>\n",
       "    <tr>\n",
       "      <th>4</th>\n",
       "      <td>850</td>\n",
       "      <td>43</td>\n",
       "      <td>2</td>\n",
       "      <td>125510.82</td>\n",
       "      <td>1</td>\n",
       "      <td>1</td>\n",
       "      <td>1</td>\n",
       "      <td>79084.10</td>\n",
       "      <td>1</td>\n",
       "      <td>0</td>\n",
       "      <td>0</td>\n",
       "      <td>0</td>\n",
       "      <td>1</td>\n",
       "    </tr>\n",
       "  </tbody>\n",
       "</table>\n",
       "</div>"
      ],
      "text/plain": [
       "   CreditScore  Age  Tenure    Balance  NumOfProducts  HasCrCard  \\\n",
       "0          619   42       2       0.00              1          1   \n",
       "1          608   41       1   83807.86              1          0   \n",
       "2          502   42       8  159660.80              3          1   \n",
       "3          699   39       1       0.00              2          0   \n",
       "4          850   43       2  125510.82              1          1   \n",
       "\n",
       "   IsActiveMember  EstimatedSalary  Female  Male  France  Germany  Spain  \n",
       "0               1        101348.88       1     0       1        0      0  \n",
       "1               1        112542.58       1     0       0        0      1  \n",
       "2               0        113931.57       1     0       1        0      0  \n",
       "3               0         93826.63       1     0       1        0      0  \n",
       "4               1         79084.10       1     0       0        0      1  "
      ]
     },
     "execution_count": 66,
     "metadata": {},
     "output_type": "execute_result"
    }
   ],
   "source": [
    "X.head()"
   ]
  },
  {
   "cell_type": "code",
   "execution_count": 61,
   "metadata": {},
   "outputs": [],
   "source": [
    "X=X.drop(['RowNumber','CustomerId','Surname'],axis=1)"
   ]
  },
  {
   "cell_type": "code",
   "execution_count": 67,
   "metadata": {},
   "outputs": [],
   "source": [
    "from sklearn.model_selection import train_test_split"
   ]
  },
  {
   "cell_type": "code",
   "execution_count": 68,
   "metadata": {},
   "outputs": [],
   "source": [
    "x_train,x_test,y_train,y_test=train_test_split(X,Y,test_size=0.2,random_state=0)"
   ]
  },
  {
   "cell_type": "code",
   "execution_count": 69,
   "metadata": {},
   "outputs": [],
   "source": [
    "from sklearn.preprocessing import StandardScaler"
   ]
  },
  {
   "cell_type": "code",
   "execution_count": 70,
   "metadata": {},
   "outputs": [],
   "source": [
    "sc=StandardScaler()"
   ]
  },
  {
   "cell_type": "code",
   "execution_count": 71,
   "metadata": {},
   "outputs": [],
   "source": [
    "x_train=sc.fit_transform(x_train)\n",
    "x_test=sc.fit_transform(x_test)"
   ]
  },
  {
   "cell_type": "code",
   "execution_count": 72,
   "metadata": {},
   "outputs": [],
   "source": [
    "import keras \n",
    "from keras.models import Sequential\n",
    "from keras.layers import Dense\n",
    "from keras.layers import Dropout\n",
    "from keras.layers import ELU\n"
   ]
  },
  {
   "cell_type": "code",
   "execution_count": 80,
   "metadata": {},
   "outputs": [
    {
     "name": "stderr",
     "output_type": "stream",
     "text": [
      "D:\\Anaconda\\lib\\site-packages\\ipykernel_launcher.py:2: UserWarning: Update your `Dense` call to the Keras 2 API: `Dense(6, activation=\"relu\", input_dim=13, kernel_initializer=\"he_uniform\")`\n",
      "  \n",
      "D:\\Anaconda\\lib\\site-packages\\ipykernel_launcher.py:3: UserWarning: Update your `Dense` call to the Keras 2 API: `Dense(6, activation=\"relu\", kernel_initializer=\"he_uniform\")`\n",
      "  This is separate from the ipykernel package so we can avoid doing imports until\n",
      "D:\\Anaconda\\lib\\site-packages\\ipykernel_launcher.py:4: UserWarning: Update your `Dense` call to the Keras 2 API: `Dense(activation=\"sigmoid\", units=1, kernel_initializer=\"glorot_uniform\")`\n",
      "  after removing the cwd from sys.path.\n",
      "D:\\Anaconda\\lib\\site-packages\\ipykernel_launcher.py:6: UserWarning: The `nb_epoch` argument in `fit` has been renamed `epochs`.\n",
      "  \n"
     ]
    },
    {
     "name": "stdout",
     "output_type": "stream",
     "text": [
      "Train on 5359 samples, validate on 2641 samples\n",
      "Epoch 1/100\n",
      "5359/5359 [==============================] - 8s 1ms/step - loss: 0.6406 - accuracy: 0.6818 - val_loss: 0.5137 - val_accuracy: 0.8005\n",
      "Epoch 2/100\n",
      "5359/5359 [==============================] - 2s 437us/step - loss: 0.4767 - accuracy: 0.8041 - val_loss: 0.4551 - val_accuracy: 0.8054\n",
      "Epoch 3/100\n",
      "5359/5359 [==============================] - 2s 370us/step - loss: 0.4377 - accuracy: 0.8091 - val_loss: 0.4383 - val_accuracy: 0.8050\n",
      "Epoch 4/100\n",
      "5359/5359 [==============================] - 2s 319us/step - loss: 0.4230 - accuracy: 0.8140 - val_loss: 0.4290 - val_accuracy: 0.8103\n",
      "Epoch 5/100\n",
      "5359/5359 [==============================] - 2s 293us/step - loss: 0.4125 - accuracy: 0.8190 - val_loss: 0.4200 - val_accuracy: 0.8114\n",
      "Epoch 6/100\n",
      "5359/5359 [==============================] - 2s 309us/step - loss: 0.4029 - accuracy: 0.8237 - val_loss: 0.4133 - val_accuracy: 0.8145\n",
      "Epoch 7/100\n",
      "5359/5359 [==============================] - 1s 272us/step - loss: 0.3924 - accuracy: 0.8315 - val_loss: 0.4039 - val_accuracy: 0.8186\n",
      "Epoch 8/100\n",
      "5359/5359 [==============================] - 2s 322us/step - loss: 0.3818 - accuracy: 0.8382 - val_loss: 0.3942 - val_accuracy: 0.8217\n",
      "Epoch 9/100\n",
      "5359/5359 [==============================] - 2s 325us/step - loss: 0.3724 - accuracy: 0.8416 - val_loss: 0.3878 - val_accuracy: 0.8281\n",
      "Epoch 10/100\n",
      "5359/5359 [==============================] - 2s 316us/step - loss: 0.3648 - accuracy: 0.8461 - val_loss: 0.3830 - val_accuracy: 0.8360\n",
      "Epoch 11/100\n",
      "5359/5359 [==============================] - 2s 333us/step - loss: 0.3595 - accuracy: 0.8509 - val_loss: 0.3798 - val_accuracy: 0.8376\n",
      "Epoch 12/100\n",
      "5359/5359 [==============================] - 2s 326us/step - loss: 0.3556 - accuracy: 0.8492 - val_loss: 0.3776 - val_accuracy: 0.8383\n",
      "Epoch 13/100\n",
      "5359/5359 [==============================] - 2s 332us/step - loss: 0.3531 - accuracy: 0.8541 - val_loss: 0.3757 - val_accuracy: 0.8398\n",
      "Epoch 14/100\n",
      "5359/5359 [==============================] - 2s 319us/step - loss: 0.3513 - accuracy: 0.8541 - val_loss: 0.3741 - val_accuracy: 0.8383\n",
      "Epoch 15/100\n",
      "5359/5359 [==============================] - 2s 326us/step - loss: 0.3497 - accuracy: 0.8535 - val_loss: 0.3740 - val_accuracy: 0.8395\n",
      "Epoch 16/100\n",
      "5359/5359 [==============================] - 2s 322us/step - loss: 0.3484 - accuracy: 0.8580 - val_loss: 0.3729 - val_accuracy: 0.8406\n",
      "Epoch 17/100\n",
      "5359/5359 [==============================] - 2s 334us/step - loss: 0.3466 - accuracy: 0.8565 - val_loss: 0.3736 - val_accuracy: 0.8444\n",
      "Epoch 18/100\n",
      "5359/5359 [==============================] - 2s 323us/step - loss: 0.3461 - accuracy: 0.8580 - val_loss: 0.3721 - val_accuracy: 0.8440\n",
      "Epoch 19/100\n",
      "5359/5359 [==============================] - 2s 333us/step - loss: 0.3445 - accuracy: 0.8578 - val_loss: 0.3714 - val_accuracy: 0.8444\n",
      "Epoch 20/100\n",
      "5359/5359 [==============================] - 2s 330us/step - loss: 0.3437 - accuracy: 0.8584 - val_loss: 0.3704 - val_accuracy: 0.8459\n",
      "Epoch 21/100\n",
      "5359/5359 [==============================] - 2s 323us/step - loss: 0.3428 - accuracy: 0.8610 - val_loss: 0.3705 - val_accuracy: 0.8470\n",
      "Epoch 22/100\n",
      "5359/5359 [==============================] - 2s 312us/step - loss: 0.3424 - accuracy: 0.8586 - val_loss: 0.3699 - val_accuracy: 0.8451\n",
      "Epoch 23/100\n",
      "5359/5359 [==============================] - 2s 282us/step - loss: 0.3416 - accuracy: 0.8612 - val_loss: 0.3700 - val_accuracy: 0.8463\n",
      "Epoch 24/100\n",
      "5359/5359 [==============================] - 2s 290us/step - loss: 0.3409 - accuracy: 0.8608 - val_loss: 0.3699 - val_accuracy: 0.8482\n",
      "Epoch 25/100\n",
      "5359/5359 [==============================] - 2s 338us/step - loss: 0.3402 - accuracy: 0.8610 - val_loss: 0.3711 - val_accuracy: 0.8451\n",
      "Epoch 26/100\n",
      "5359/5359 [==============================] - 1s 268us/step - loss: 0.3403 - accuracy: 0.8595 - val_loss: 0.3687 - val_accuracy: 0.8451\n",
      "Epoch 27/100\n",
      "5359/5359 [==============================] - 2s 294us/step - loss: 0.3395 - accuracy: 0.8625 - val_loss: 0.3685 - val_accuracy: 0.8482\n",
      "Epoch 28/100\n",
      "5359/5359 [==============================] - 2s 283us/step - loss: 0.3395 - accuracy: 0.8602 - val_loss: 0.3677 - val_accuracy: 0.8493\n",
      "Epoch 29/100\n",
      "5359/5359 [==============================] - 2s 302us/step - loss: 0.3388 - accuracy: 0.8600 - val_loss: 0.3693 - val_accuracy: 0.8489\n",
      "Epoch 30/100\n",
      "5359/5359 [==============================] - 2s 282us/step - loss: 0.3386 - accuracy: 0.8623 - val_loss: 0.3682 - val_accuracy: 0.8466\n",
      "Epoch 31/100\n",
      "5359/5359 [==============================] - 1s 279us/step - loss: 0.3385 - accuracy: 0.8602 - val_loss: 0.3681 - val_accuracy: 0.8478\n",
      "Epoch 32/100\n",
      "5359/5359 [==============================] - 1s 268us/step - loss: 0.3383 - accuracy: 0.8630 - val_loss: 0.3662 - val_accuracy: 0.8485\n",
      "Epoch 33/100\n",
      "5359/5359 [==============================] - 1s 268us/step - loss: 0.3380 - accuracy: 0.8578 - val_loss: 0.3653 - val_accuracy: 0.8501\n",
      "Epoch 34/100\n",
      "5359/5359 [==============================] - 2s 281us/step - loss: 0.3376 - accuracy: 0.8612 - val_loss: 0.3663 - val_accuracy: 0.8485\n",
      "Epoch 35/100\n",
      "5359/5359 [==============================] - 1s 267us/step - loss: 0.3376 - accuracy: 0.8612 - val_loss: 0.3673 - val_accuracy: 0.8470\n",
      "Epoch 36/100\n",
      "5359/5359 [==============================] - 1s 274us/step - loss: 0.3372 - accuracy: 0.8640 - val_loss: 0.3663 - val_accuracy: 0.8466\n",
      "Epoch 37/100\n",
      "5359/5359 [==============================] - 1s 274us/step - loss: 0.3375 - accuracy: 0.8619 - val_loss: 0.3661 - val_accuracy: 0.8474\n",
      "Epoch 38/100\n",
      "5359/5359 [==============================] - 1s 279us/step - loss: 0.3371 - accuracy: 0.8612 - val_loss: 0.3652 - val_accuracy: 0.8493\n",
      "Epoch 39/100\n",
      "5359/5359 [==============================] - 1s 279us/step - loss: 0.3367 - accuracy: 0.8625 - val_loss: 0.3654 - val_accuracy: 0.8497\n",
      "Epoch 40/100\n",
      "5359/5359 [==============================] - 2s 291us/step - loss: 0.3364 - accuracy: 0.8623 - val_loss: 0.3654 - val_accuracy: 0.8478\n",
      "Epoch 41/100\n",
      "5359/5359 [==============================] - 2s 286us/step - loss: 0.3369 - accuracy: 0.8595 - val_loss: 0.3648 - val_accuracy: 0.8501\n",
      "Epoch 42/100\n",
      "5359/5359 [==============================] - 1s 265us/step - loss: 0.3366 - accuracy: 0.8602 - val_loss: 0.3656 - val_accuracy: 0.8474\n",
      "Epoch 43/100\n",
      "5359/5359 [==============================] - 1s 276us/step - loss: 0.3365 - accuracy: 0.8614 - val_loss: 0.3653 - val_accuracy: 0.8489\n",
      "Epoch 44/100\n",
      "5359/5359 [==============================] - 1s 268us/step - loss: 0.3365 - accuracy: 0.8608 - val_loss: 0.3646 - val_accuracy: 0.8497\n",
      "Epoch 45/100\n",
      "5359/5359 [==============================] - 1s 272us/step - loss: 0.3366 - accuracy: 0.8608 - val_loss: 0.3647 - val_accuracy: 0.8512\n",
      "Epoch 46/100\n",
      "5359/5359 [==============================] - 2s 280us/step - loss: 0.3360 - accuracy: 0.8597 - val_loss: 0.3663 - val_accuracy: 0.8497\n",
      "Epoch 47/100\n",
      "5359/5359 [==============================] - 1s 278us/step - loss: 0.3360 - accuracy: 0.8593 - val_loss: 0.3670 - val_accuracy: 0.8459\n",
      "Epoch 48/100\n",
      "5359/5359 [==============================] - 2s 285us/step - loss: 0.3364 - accuracy: 0.8610 - val_loss: 0.3650 - val_accuracy: 0.8501\n",
      "Epoch 49/100\n",
      "5359/5359 [==============================] - 1s 278us/step - loss: 0.3362 - accuracy: 0.8617 - val_loss: 0.3660 - val_accuracy: 0.8474\n",
      "Epoch 50/100\n",
      "5359/5359 [==============================] - 1s 276us/step - loss: 0.3359 - accuracy: 0.8608 - val_loss: 0.3662 - val_accuracy: 0.8482\n",
      "Epoch 51/100\n",
      "5359/5359 [==============================] - 1s 277us/step - loss: 0.3359 - accuracy: 0.8608 - val_loss: 0.3646 - val_accuracy: 0.8485\n",
      "Epoch 52/100\n",
      "5359/5359 [==============================] - 1s 259us/step - loss: 0.3359 - accuracy: 0.8627 - val_loss: 0.3662 - val_accuracy: 0.8482\n",
      "Epoch 53/100\n",
      "5359/5359 [==============================] - 1s 267us/step - loss: 0.3357 - accuracy: 0.8597 - val_loss: 0.3661 - val_accuracy: 0.8485\n",
      "Epoch 54/100\n",
      "5359/5359 [==============================] - 1s 273us/step - loss: 0.3357 - accuracy: 0.8602 - val_loss: 0.3645 - val_accuracy: 0.8501\n",
      "Epoch 55/100\n",
      "5359/5359 [==============================] - 1s 272us/step - loss: 0.3354 - accuracy: 0.8619 - val_loss: 0.3651 - val_accuracy: 0.8485\n",
      "Epoch 56/100\n"
     ]
    },
    {
     "name": "stdout",
     "output_type": "stream",
     "text": [
      "5359/5359 [==============================] - 1s 267us/step - loss: 0.3354 - accuracy: 0.8615 - val_loss: 0.3656 - val_accuracy: 0.8504\n",
      "Epoch 57/100\n",
      "5359/5359 [==============================] - 1s 278us/step - loss: 0.3354 - accuracy: 0.8600 - val_loss: 0.3655 - val_accuracy: 0.8474\n",
      "Epoch 58/100\n",
      "5359/5359 [==============================] - 2s 290us/step - loss: 0.3351 - accuracy: 0.8610 - val_loss: 0.3685 - val_accuracy: 0.8455\n",
      "Epoch 59/100\n",
      "5359/5359 [==============================] - 2s 344us/step - loss: 0.3348 - accuracy: 0.8619 - val_loss: 0.3654 - val_accuracy: 0.8493\n",
      "Epoch 60/100\n",
      "5359/5359 [==============================] - 2s 348us/step - loss: 0.3350 - accuracy: 0.8614 - val_loss: 0.3653 - val_accuracy: 0.8466\n",
      "Epoch 61/100\n",
      "5359/5359 [==============================] - 2s 368us/step - loss: 0.3345 - accuracy: 0.8604 - val_loss: 0.3663 - val_accuracy: 0.8512\n",
      "Epoch 62/100\n",
      "5359/5359 [==============================] - 2s 372us/step - loss: 0.3351 - accuracy: 0.8625 - val_loss: 0.3646 - val_accuracy: 0.8497\n",
      "Epoch 63/100\n",
      "5359/5359 [==============================] - 2s 350us/step - loss: 0.3347 - accuracy: 0.8608 - val_loss: 0.3646 - val_accuracy: 0.8512\n",
      "Epoch 64/100\n",
      "5359/5359 [==============================] - 2s 347us/step - loss: 0.3347 - accuracy: 0.8617 - val_loss: 0.3655 - val_accuracy: 0.8493\n",
      "Epoch 65/100\n",
      "5359/5359 [==============================] - 2s 335us/step - loss: 0.3349 - accuracy: 0.8627 - val_loss: 0.3652 - val_accuracy: 0.8478\n",
      "Epoch 66/100\n",
      "5359/5359 [==============================] - 2s 335us/step - loss: 0.3346 - accuracy: 0.8600 - val_loss: 0.3653 - val_accuracy: 0.8504\n",
      "Epoch 67/100\n",
      "5359/5359 [==============================] - 2s 339us/step - loss: 0.3343 - accuracy: 0.8604 - val_loss: 0.3660 - val_accuracy: 0.8501\n",
      "Epoch 68/100\n",
      "5359/5359 [==============================] - 2s 338us/step - loss: 0.3342 - accuracy: 0.8602 - val_loss: 0.3665 - val_accuracy: 0.8440\n",
      "Epoch 69/100\n",
      "5359/5359 [==============================] - 3s 480us/step - loss: 0.3344 - accuracy: 0.8614 - val_loss: 0.3645 - val_accuracy: 0.8516\n",
      "Epoch 70/100\n",
      "5359/5359 [==============================] - 2s 379us/step - loss: 0.3346 - accuracy: 0.8589 - val_loss: 0.3657 - val_accuracy: 0.8485\n",
      "Epoch 71/100\n",
      "5359/5359 [==============================] - 2s 323us/step - loss: 0.3341 - accuracy: 0.8600 - val_loss: 0.3658 - val_accuracy: 0.8455\n",
      "Epoch 72/100\n",
      "5359/5359 [==============================] - 2s 336us/step - loss: 0.3343 - accuracy: 0.8606 - val_loss: 0.3650 - val_accuracy: 0.8466\n",
      "Epoch 73/100\n",
      "5359/5359 [==============================] - 2s 373us/step - loss: 0.3342 - accuracy: 0.8612 - val_loss: 0.3647 - val_accuracy: 0.8474\n",
      "Epoch 74/100\n",
      "5359/5359 [==============================] - 2s 459us/step - loss: 0.3341 - accuracy: 0.8589 - val_loss: 0.3664 - val_accuracy: 0.8463\n",
      "Epoch 75/100\n",
      "5359/5359 [==============================] - 2s 322us/step - loss: 0.3344 - accuracy: 0.8587 - val_loss: 0.3643 - val_accuracy: 0.8493\n",
      "Epoch 76/100\n",
      "5359/5359 [==============================] - 2s 326us/step - loss: 0.3341 - accuracy: 0.8615 - val_loss: 0.3641 - val_accuracy: 0.8478\n",
      "Epoch 77/100\n",
      "5359/5359 [==============================] - 2s 358us/step - loss: 0.3336 - accuracy: 0.8606 - val_loss: 0.3646 - val_accuracy: 0.8493\n",
      "Epoch 78/100\n",
      "5359/5359 [==============================] - 2s 319us/step - loss: 0.3335 - accuracy: 0.8621 - val_loss: 0.3646 - val_accuracy: 0.8516\n",
      "Epoch 79/100\n",
      "5359/5359 [==============================] - 2s 299us/step - loss: 0.3341 - accuracy: 0.8619 - val_loss: 0.3652 - val_accuracy: 0.8508\n",
      "Epoch 80/100\n",
      "5359/5359 [==============================] - 2s 288us/step - loss: 0.3328 - accuracy: 0.8608 - val_loss: 0.3657 - val_accuracy: 0.8497\n",
      "Epoch 81/100\n",
      "5359/5359 [==============================] - 2s 286us/step - loss: 0.3332 - accuracy: 0.8619 - val_loss: 0.3647 - val_accuracy: 0.8485\n",
      "Epoch 82/100\n",
      "5359/5359 [==============================] - 1s 273us/step - loss: 0.3336 - accuracy: 0.8617 - val_loss: 0.3653 - val_accuracy: 0.8512\n",
      "Epoch 83/100\n",
      "5359/5359 [==============================] - 2s 280us/step - loss: 0.3330 - accuracy: 0.8593 - val_loss: 0.3659 - val_accuracy: 0.8474\n",
      "Epoch 84/100\n",
      "5359/5359 [==============================] - 1s 263us/step - loss: 0.3335 - accuracy: 0.8630 - val_loss: 0.3646 - val_accuracy: 0.8489\n",
      "Epoch 85/100\n",
      "5359/5359 [==============================] - 1s 273us/step - loss: 0.3331 - accuracy: 0.8593 - val_loss: 0.3658 - val_accuracy: 0.8508\n",
      "Epoch 86/100\n",
      "5359/5359 [==============================] - 1s 276us/step - loss: 0.3328 - accuracy: 0.8619 - val_loss: 0.3645 - val_accuracy: 0.8516\n",
      "Epoch 87/100\n",
      "5359/5359 [==============================] - 1s 275us/step - loss: 0.3327 - accuracy: 0.8621 - val_loss: 0.3652 - val_accuracy: 0.8508\n",
      "Epoch 88/100\n",
      "5359/5359 [==============================] - 1s 272us/step - loss: 0.3326 - accuracy: 0.8600 - val_loss: 0.3651 - val_accuracy: 0.8485\n",
      "Epoch 89/100\n",
      "5359/5359 [==============================] - 1s 279us/step - loss: 0.3328 - accuracy: 0.8614 - val_loss: 0.3641 - val_accuracy: 0.8501\n",
      "Epoch 90/100\n",
      "5359/5359 [==============================] - 1s 269us/step - loss: 0.3326 - accuracy: 0.8625 - val_loss: 0.3648 - val_accuracy: 0.8504\n",
      "Epoch 91/100\n",
      "5359/5359 [==============================] - 1s 267us/step - loss: 0.3326 - accuracy: 0.8600 - val_loss: 0.3652 - val_accuracy: 0.8485\n",
      "Epoch 92/100\n",
      "5359/5359 [==============================] - 1s 264us/step - loss: 0.3327 - accuracy: 0.8578 - val_loss: 0.3659 - val_accuracy: 0.8523\n",
      "Epoch 93/100\n",
      "5359/5359 [==============================] - 1s 268us/step - loss: 0.3321 - accuracy: 0.8610 - val_loss: 0.3638 - val_accuracy: 0.8519\n",
      "Epoch 94/100\n",
      "5359/5359 [==============================] - 1s 262us/step - loss: 0.3319 - accuracy: 0.8614 - val_loss: 0.3650 - val_accuracy: 0.8504\n",
      "Epoch 95/100\n",
      "5359/5359 [==============================] - 1s 271us/step - loss: 0.3322 - accuracy: 0.8614 - val_loss: 0.3667 - val_accuracy: 0.8474\n",
      "Epoch 96/100\n",
      "5359/5359 [==============================] - 1s 272us/step - loss: 0.3316 - accuracy: 0.8615 - val_loss: 0.3661 - val_accuracy: 0.8493\n",
      "Epoch 97/100\n",
      "5359/5359 [==============================] - 1s 273us/step - loss: 0.3316 - accuracy: 0.8619 - val_loss: 0.3686 - val_accuracy: 0.8470\n",
      "Epoch 98/100\n",
      "5359/5359 [==============================] - 1s 273us/step - loss: 0.3324 - accuracy: 0.8597 - val_loss: 0.3666 - val_accuracy: 0.8501\n",
      "Epoch 99/100\n",
      "5359/5359 [==============================] - 1s 274us/step - loss: 0.3326 - accuracy: 0.8602 - val_loss: 0.3664 - val_accuracy: 0.8504\n",
      "Epoch 100/100\n",
      "5359/5359 [==============================] - 1s 272us/step - loss: 0.3319 - accuracy: 0.8591 - val_loss: 0.3657 - val_accuracy: 0.8497\n"
     ]
    }
   ],
   "source": [
    "cl=Sequential()\n",
    "cl.add(Dense(6,init='he_uniform',activation='relu',input_dim=13))\n",
    "cl.add(Dense(6,init='he_uniform',activation='relu'))\n",
    "cl.add(Dense(output_dim=1,init='glorot_uniform',activation='sigmoid'))\n",
    "cl.compile(optimizer='adam',loss='binary_crossentropy',metrics=['accuracy'])\n",
    "model_hist=cl.fit(x_train,y_train,validation_split=0.33,batch_size=10,nb_epoch=100)\n"
   ]
  },
  {
   "cell_type": "code",
   "execution_count": 82,
   "metadata": {},
   "outputs": [
    {
     "name": "stdout",
     "output_type": "stream",
     "text": [
      "dict_keys(['val_loss', 'val_accuracy', 'loss', 'accuracy'])\n"
     ]
    }
   ],
   "source": [
    "print(model_hist.history.keys())\n"
   ]
  },
  {
   "cell_type": "code",
   "execution_count": 84,
   "metadata": {},
   "outputs": [],
   "source": [
    "ypred=cl.predict(x_test\n",
    "             )\n",
    "ypred=(ypred>0.5)\n",
    "from sklearn.metrics import accuracy_score\n",
    "score=accuracy_score(ypred,y_test)"
   ]
  },
  {
   "cell_type": "code",
   "execution_count": 85,
   "metadata": {},
   "outputs": [
    {
     "name": "stdout",
     "output_type": "stream",
     "text": [
      "0.8565\n"
     ]
    }
   ],
   "source": [
    "print(score)"
   ]
  },
  {
   "cell_type": "markdown",
   "metadata": {},
   "source": [
    "Hyper Parameter Tuning \n"
   ]
  },
  {
   "cell_type": "code",
   "execution_count": 86,
   "metadata": {},
   "outputs": [],
   "source": [
    "from keras.wrappers.scikit_learn import KerasClassifier\n",
    "from sklearn.model_selection import GridSearchCV"
   ]
  },
  {
   "cell_type": "code",
   "execution_count": 87,
   "metadata": {},
   "outputs": [],
   "source": [
    "from keras.layers import Activation"
   ]
  },
  {
   "cell_type": "code",
   "execution_count": 94,
   "metadata": {},
   "outputs": [],
   "source": [
    "def cr_ml(layers,act):\n",
    "    model=Sequential()\n",
    "    for i, nodes in enumerate(layers):\n",
    "        if i==0:\n",
    "            model.add(Dense(nodes,input_dim=x_train.shape[1]))\n",
    "            model.add(Activation(act))\n",
    "        else:\n",
    "            model.add(Dense(nodes))\n",
    "            model.add(Activation(act))\n",
    "    model.add(Dense(units=1,init='glorot_uniform',activation='sigmoid'))\n",
    "    model.compile(optimizer='adam',loss='binary_crossentropy',metrics=['accuracy'])\n",
    "    return model"
   ]
  },
  {
   "cell_type": "code",
   "execution_count": 95,
   "metadata": {},
   "outputs": [],
   "source": [
    "model=KerasClassifier(build_fn=cr_ml,verbose=0)\n"
   ]
  },
  {
   "cell_type": "code",
   "execution_count": 97,
   "metadata": {},
   "outputs": [
    {
     "name": "stderr",
     "output_type": "stream",
     "text": [
      "D:\\Anaconda\\lib\\site-packages\\ipykernel_launcher.py:10: UserWarning: Update your `Dense` call to the Keras 2 API: `Dense(units=1, activation=\"sigmoid\", kernel_initializer=\"glorot_uniform\")`\n",
      "  # Remove the CWD from sys.path while we load stuff.\n"
     ]
    },
    {
     "name": "stdout",
     "output_type": "stream",
     "text": [
      "0.8587499856948853 {'act': 'relu', 'batch_size': 128, 'epochs': 30, 'layers': [40, 20]}\n"
     ]
    }
   ],
   "source": [
    "layers=[[20],[40,20],[40,35,15]]\n",
    "acts=['sigmoid','relu']\n",
    "param_grid=dict(layers=layers,act=acts,batch_size=[128,256],epochs=[30])\n",
    "grid=GridSearchCV(estimator=model,param_grid=param_grid,cv=5)\n",
    "grid_result=grid.fit(x_train,y_train)\n",
    "print(grid_result.best_score_,grid_result.best_params_)"
   ]
  },
  {
   "cell_type": "code",
   "execution_count": 98,
   "metadata": {},
   "outputs": [],
   "source": [
    "y_pred=grid.predict(x_test)\n",
    "y_pred=(y_pred>0.5)"
   ]
  }
 ],
 "metadata": {
  "kernelspec": {
   "display_name": "Python 3",
   "language": "python",
   "name": "python3"
  },
  "language_info": {
   "codemirror_mode": {
    "name": "ipython",
    "version": 3
   },
   "file_extension": ".py",
   "mimetype": "text/x-python",
   "name": "python",
   "nbconvert_exporter": "python",
   "pygments_lexer": "ipython3",
   "version": "3.7.3"
  }
 },
 "nbformat": 4,
 "nbformat_minor": 2
}
